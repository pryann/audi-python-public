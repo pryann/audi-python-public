{
 "cells": [
  {
   "cell_type": "markdown",
   "id": "949b9aa0",
   "metadata": {
    "nbgrader": {
     "grade": false,
     "grade_id": "cell-7b80c3bb099cfb4c",
     "locked": true,
     "schema_version": 3,
     "solution": false,
     "task": false
    }
   },
   "source": [
    "# 1. feladatsor - tuple\n",
    "\n",
    "## Tuple módosítás\n",
    "Írj egy Python programot ami kitörli egy Tuple utolsó elemét."
   ]
  },
  {
   "cell_type": "code",
   "execution_count": 2,
   "id": "d7eaa04a",
   "metadata": {
    "nbgrader": {
     "grade": false,
     "grade_id": "cell-a3e8d85db2cd3829",
     "locked": false,
     "schema_version": 3,
     "solution": true,
     "task": false
    }
   },
   "outputs": [
    {
     "name": "stdout",
     "output_type": "stream",
     "text": [
      "('w', 3, 'r', 's', 'o', 'u', 'r', 'c')\n"
     ]
    }
   ],
   "source": [
    "tuplex = \"w\", 3, \"r\", \"s\", \"o\", \"u\", \"r\", \"c\", \"e\"\n",
    "### BEGIN SOLUTION\n",
    "# print(tuple(list(tuplex[:-1])))\n",
    "my_list = list(tuplex)\n",
    "my_list.pop()\n",
    "tuplex = tuple(my_list)\n",
    "print(tuplex)\n",
    "### END SOLUTION"
   ]
  },
  {
   "cell_type": "markdown",
   "id": "bfd0da65",
   "metadata": {
    "nbgrader": {
     "grade": false,
     "grade_id": "cell-6008e892cdb2309b",
     "locked": true,
     "schema_version": 3,
     "solution": false,
     "task": false
    }
   },
   "source": [
    "## Lista elemek szűrése\n",
    "\n",
    "Adott az alábbi lista\n",
    "\n",
    "`sample_list = [87, 45, 41, 65, 94, 41, 99, 94]`\n",
    "\n",
    "Távolítsuk el a duplikált elemeket belőle. Az így keletkezett listából készítsünk egy Tuple-t `result` néven. Írjuk ki a képernyőre.\n",
    "\n",
    "Keressük meg a Tuple minimum és maximúm értéket. Ezeket írjuk ki a képernyőre."
   ]
  },
  {
   "cell_type": "code",
   "execution_count": 3,
   "id": "61472f89",
   "metadata": {
    "nbgrader": {
     "grade": false,
     "grade_id": "cell-84721ecb4b633c21",
     "locked": false,
     "schema_version": 3,
     "solution": true,
     "task": false
    }
   },
   "outputs": [
    {
     "name": "stdout",
     "output_type": "stream",
     "text": [
      "(87, 52, 44, 53, 54)\n",
      "44\n",
      "87\n",
      "{44, 52, 53, 54, 87}\n"
     ]
    }
   ],
   "source": [
    "sample_list = [87, 52, 44, 53, 54, 87, 52, 53]\n",
    "result = None\n",
    "### BEGIN SOLUTION\n",
    "no_duplicates = []\n",
    "for elem in sample_list:\n",
    "    if elem not in no_duplicates:\n",
    "        no_duplicates.append(elem)\n",
    "result = tuple(no_duplicates)\n",
    "print(result)\n",
    "print(min(result))\n",
    "print(max(result))\n",
    "# print(set([87, 52, 44, 53, 54, 87, 52, 53]))\n",
    "### END SOLUTION"
   ]
  }
 ],
 "metadata": {
  "celltoolbar": "Create Assignment",
  "kernelspec": {
   "display_name": "Python 3",
   "language": "python",
   "name": "python3"
  },
  "language_info": {
   "codemirror_mode": {
    "name": "ipython",
    "version": 3
   },
   "file_extension": ".py",
   "mimetype": "text/x-python",
   "name": "python",
   "nbconvert_exporter": "python",
   "pygments_lexer": "ipython3",
   "version": "3.11.0"
  },
  "vscode": {
   "interpreter": {
    "hash": "c261aea317cc0286b3b3261fbba9abdec21eaa57589985bb7a274bf54d6cc0a7"
   }
  }
 },
 "nbformat": 4,
 "nbformat_minor": 5
}
